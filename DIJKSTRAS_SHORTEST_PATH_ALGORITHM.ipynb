{
 "cells": [
  {
   "cell_type": "markdown",
   "metadata": {},
   "source": [
    "### DIJKSTRAS SHORTEST PATH"
   ]
  },
  {
   "cell_type": "code",
   "execution_count": 86,
   "metadata": {},
   "outputs": [],
   "source": [
    "def dijkstras_shortest_path(edges,src,n):\n",
    "    \"\"\"Computes shortest distance from source node to all other nodes\n",
    "\n",
    "    Args:\n",
    "      edges: edge tuple (from,to,distance)\n",
    "      src: source node\n",
    "      n: total number of nodes\n",
    "    Raises:\n",
    "        None\n",
    "    Returns:\n",
    "        List of shortest distance from src node\n",
    "    \"\"\"\n",
    "    # initialize\n",
    "    V = set()\n",
    "    _V = set()\n",
    "    D = [None] * (n+1)\n",
    "    #add src node to set\n",
    "    V.add(src)\n",
    "    # add other nodes to _V\n",
    "    for v in range(1,n+1):\n",
    "        if v not in V:\n",
    "            _V.add(v)\n",
    "    # set src distance to 0\n",
    "    D[src] = 0\n",
    "    \n",
    "    while len(_V) != 0:\n",
    "        _d = 1000000000 #some max number\n",
    "        _e = ()\n",
    "        for e in edges:\n",
    "            u,v,d = e\n",
    "            if u in V and v in _V and  D[u] + d < _d:\n",
    "                _d = D[u] + d\n",
    "                _e = e\n",
    "    \n",
    "        edges.remove(_e)\n",
    "        _V.remove(_e[1]) # remove vertices\n",
    "        V.add(_e[1])\n",
    "        D[_e[1]] = D[_e[0]] + _e[2] #update distance\n",
    "    return D"
   ]
  },
  {
   "cell_type": "code",
   "execution_count": 84,
   "metadata": {},
   "outputs": [
    {
     "data": {
      "text/plain": [
       "[None, 0, 1, 6, 3]"
      ]
     },
     "execution_count": 84,
     "metadata": {},
     "output_type": "execute_result"
    }
   ],
   "source": [
    "e = set()\n",
    "e.add((1,2,1))\n",
    "e.add((1,4,4))\n",
    "e.add((2,3,6))\n",
    "e.add((2,4,2))\n",
    "e.add((4,3,3))\n",
    "dijkstras_shortest_path(e,1,4)"
   ]
  },
  {
   "cell_type": "markdown",
   "metadata": {},
   "source": [
    "### Assignment"
   ]
  },
  {
   "cell_type": "code",
   "execution_count": 85,
   "metadata": {},
   "outputs": [],
   "source": [
    "#url = 'https://d18ky98rnyall9.cloudfront.net/_dcf1d02570e57d23ab526b1e33ba6f12_dijkstraData.txt?Expires=1543276800&Signature=Fo2UPr7aMKw8S4aCeofKPbaSU9lo1urUWWXk1DiWQmoPPXtyV6cOkeiFQ2zPOBSEYN3dBfhVCwvF69kKenYiBpks9YM6v80U4WKlFvZYeubhWcY4ITPUliwCYloAl5nsfyMrIeYkuOj3liOjh-FEKJmenfEJl4CZfUM2OTVS7cM_&Key-Pair-Id=APKAJLTNE6QMUY6HBC5A'\n",
    "url = 'https://raw.githubusercontent.com/beaunus/stanford-algs/master/testCases/course2/assignment2Dijkstra/input_random_10_16.txt'\n",
    "from urllib.request import urlopen\n",
    "dat = urlopen(url).readlines()"
   ]
  },
  {
   "cell_type": "code",
   "execution_count": 79,
   "metadata": {},
   "outputs": [],
   "source": [
    "def process_lines(l,res):\n",
    "    l = str(l,'utf-8').strip().split()\n",
    "    v = int(l[0])\n",
    "    for s in l[1:]:\n",
    "        w,d = s.split(',')\n",
    "        res.add((v,int(w),int(d)))"
   ]
  },
  {
   "cell_type": "code",
   "execution_count": 80,
   "metadata": {},
   "outputs": [],
   "source": [
    "edges = set()\n",
    "for line in dat:\n",
    "    process_lines(line,edges)"
   ]
  },
  {
   "cell_type": "code",
   "execution_count": 81,
   "metadata": {},
   "outputs": [],
   "source": [
    "dist = dijkstras_shortest_path(edges,1,200)"
   ]
  },
  {
   "cell_type": "code",
   "execution_count": 82,
   "metadata": {},
   "outputs": [
    {
     "name": "stdout",
     "output_type": "stream",
     "text": [
      "588\n",
      "405\n",
      "675\n",
      "521\n",
      "909\n",
      "328\n",
      "418\n",
      "957\n",
      "830\n",
      "839\n"
     ]
    }
   ],
   "source": [
    "for x in [7,37,59,82,99,115,133,165,188,197]:\n",
    "    print(dist[x])"
   ]
  }
 ],
 "metadata": {
  "kernelspec": {
   "display_name": "Python 3",
   "language": "python",
   "name": "python3"
  },
  "language_info": {
   "codemirror_mode": {
    "name": "ipython",
    "version": 3
   },
   "file_extension": ".py",
   "mimetype": "text/x-python",
   "name": "python",
   "nbconvert_exporter": "python",
   "pygments_lexer": "ipython3",
   "version": "3.6.5"
  }
 },
 "nbformat": 4,
 "nbformat_minor": 2
}
