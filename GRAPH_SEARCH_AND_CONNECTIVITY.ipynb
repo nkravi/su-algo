{
 "cells": [
  {
   "cell_type": "markdown",
   "metadata": {},
   "source": [
    "## GRAPH SEARCH AND CONNECTIVITY "
   ]
  },
  {
   "cell_type": "markdown",
   "metadata": {},
   "source": [
    "### Graph representation"
   ]
  },
  {
   "cell_type": "code",
   "execution_count": 31,
   "metadata": {},
   "outputs": [],
   "source": [
    "# adjacency list representation\n",
    "G = {\n",
    "    'a' : ['b','c'],\n",
    "    'b' : ['a','c'],\n",
    "    'c' : ['a','d'],\n",
    "    'd' : []\n",
    "}"
   ]
  },
  {
   "cell_type": "markdown",
   "metadata": {},
   "source": [
    "### Search - BFS"
   ]
  },
  {
   "cell_type": "code",
   "execution_count": 32,
   "metadata": {},
   "outputs": [],
   "source": [
    "from collections import deque"
   ]
  },
  {
   "cell_type": "code",
   "execution_count": 52,
   "metadata": {},
   "outputs": [],
   "source": [
    "def bfs(G, s):\n",
    "    \"\"\"Does BFS search on the given graph\n",
    "\n",
    "    Args:\n",
    "      G: graph represented in adjacency list representation\n",
    "      s: source node\n",
    "    Raises:\n",
    "        None\n",
    "    Returns:\n",
    "        List of nodes explored in order\n",
    "    \"\"\"\n",
    "    explored = set()\n",
    "    q = deque()\n",
    "    res = []\n",
    "    explored.add(s)\n",
    "    q.appendleft(s)\n",
    "    while q: #repeat until queue is not empty\n",
    "        u = q.pop()\n",
    "        res.append(u)\n",
    "        for v in G[u]: #iterate through all the edges\n",
    "            if v not in explored:\n",
    "                q.appendleft(v)\n",
    "                explored.add(v)\n",
    "    return res"
   ]
  },
  {
   "cell_type": "code",
   "execution_count": 53,
   "metadata": {},
   "outputs": [
    {
     "data": {
      "text/plain": [
       "['a', 'b', 'c', 'd']"
      ]
     },
     "execution_count": 53,
     "metadata": {},
     "output_type": "execute_result"
    }
   ],
   "source": [
    "bfs(G,\"a\")"
   ]
  },
  {
   "cell_type": "markdown",
   "metadata": {},
   "source": [
    "### BFS shortest path unweighted graph"
   ]
  },
  {
   "cell_type": "code",
   "execution_count": 54,
   "metadata": {},
   "outputs": [],
   "source": [
    "def shortest_path(G,s):\n",
    "    \"\"\"Does BFS search on the given graph to find the shortest distance\n",
    "    from given source\n",
    "\n",
    "    Args:\n",
    "      G: graph represented in adjacency list representation\n",
    "      s: source node\n",
    "    Raises:\n",
    "        None\n",
    "    Returns:\n",
    "        List of (nodes,shortest_distance) tuples\n",
    "    \"\"\"\n",
    "    explored = set()\n",
    "    q = deque()\n",
    "    res = []\n",
    "    explored.add(s)\n",
    "    q.appendleft((s,0)) #set source distance to 0\n",
    "    while q: #repeat until queue is not empty\n",
    "        u,dist = q.pop()\n",
    "        res.append((u,dist))\n",
    "        for v in G[u]: #iterate through all the edges\n",
    "            if v not in explored:\n",
    "                q.appendleft((v,dist+1))\n",
    "                explored.add(v)\n",
    "    return res"
   ]
  },
  {
   "cell_type": "code",
   "execution_count": 55,
   "metadata": {},
   "outputs": [
    {
     "data": {
      "text/plain": [
       "[('a', 0), ('b', 1), ('c', 1), ('d', 2)]"
      ]
     },
     "execution_count": 55,
     "metadata": {},
     "output_type": "execute_result"
    }
   ],
   "source": [
    "shortest_path(G,\"a\")"
   ]
  },
  {
   "cell_type": "code",
   "execution_count": null,
   "metadata": {},
   "outputs": [],
   "source": []
  }
 ],
 "metadata": {
  "kernelspec": {
   "display_name": "Python 3",
   "language": "python",
   "name": "python3"
  },
  "language_info": {
   "codemirror_mode": {
    "name": "ipython",
    "version": 3
   },
   "file_extension": ".py",
   "mimetype": "text/x-python",
   "name": "python",
   "nbconvert_exporter": "python",
   "pygments_lexer": "ipython3",
   "version": "3.6.5"
  }
 },
 "nbformat": 4,
 "nbformat_minor": 2
}
