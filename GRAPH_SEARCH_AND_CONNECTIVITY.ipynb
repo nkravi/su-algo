{
 "cells": [
  {
   "cell_type": "markdown",
   "metadata": {},
   "source": [
    "## GRAPH SEARCH AND CONNECTIVITY "
   ]
  },
  {
   "cell_type": "markdown",
   "metadata": {},
   "source": [
    "### Graph representation"
   ]
  },
  {
   "cell_type": "code",
   "execution_count": 31,
   "metadata": {},
   "outputs": [],
   "source": [
    "# adjacency list representation\n",
    "G = {\n",
    "    'a' : ['b','c'],\n",
    "    'b' : ['a','c'],\n",
    "    'c' : ['a','d'],\n",
    "    'd' : []\n",
    "}"
   ]
  },
  {
   "cell_type": "markdown",
   "metadata": {},
   "source": [
    "### Search - BFS"
   ]
  },
  {
   "cell_type": "code",
   "execution_count": 32,
   "metadata": {},
   "outputs": [],
   "source": [
    "from collections import deque"
   ]
  },
  {
   "cell_type": "code",
   "execution_count": 81,
   "metadata": {},
   "outputs": [],
   "source": [
    "def bfs(G, s):\n",
    "    \"\"\"Does BFS search on the given graph\n",
    "\n",
    "    Args:\n",
    "      G: graph represented in adjacency list representation\n",
    "      s: source node\n",
    "    Raises:\n",
    "        None\n",
    "    Returns:\n",
    "        List of nodes explored in bfs order\n",
    "    \"\"\"\n",
    "    explored = set()\n",
    "    q = deque()\n",
    "    res = []\n",
    "    explored.add(s)\n",
    "    q.appendleft(s)\n",
    "    while q: #repeat until queue is not empty\n",
    "        u = q.pop()\n",
    "        res.append(u)\n",
    "        for v in G[u]: #iterate through all the edges\n",
    "            if v not in explored:\n",
    "                q.appendleft(v)\n",
    "                explored.add(v)\n",
    "    return res"
   ]
  },
  {
   "cell_type": "code",
   "execution_count": 95,
   "metadata": {},
   "outputs": [
    {
     "data": {
      "text/plain": [
       "['s', 'a', 'b', 'c', 'd', 'e']"
      ]
     },
     "execution_count": 95,
     "metadata": {},
     "output_type": "execute_result"
    }
   ],
   "source": [
    "G = {\n",
    "    's' : ['a','b'],\n",
    "    'a' : ['b','c'],\n",
    "    'b' : ['s','d'],\n",
    "    'c' : ['a','e','d'],\n",
    "    'd' : ['c','b','e'],\n",
    "    'e' : ['c','d']\n",
    "}\n",
    "bfs(G,'s')"
   ]
  },
  {
   "cell_type": "markdown",
   "metadata": {},
   "source": [
    "### BFS shortest path unweighted graph"
   ]
  },
  {
   "cell_type": "code",
   "execution_count": 54,
   "metadata": {},
   "outputs": [],
   "source": [
    "def shortest_path(G,s):\n",
    "    \"\"\"Does BFS search on the given graph to find the shortest distance\n",
    "    from given source\n",
    "\n",
    "    Args:\n",
    "      G: graph represented in adjacency list representation\n",
    "      s: source node\n",
    "    Raises:\n",
    "        None\n",
    "    Returns:\n",
    "        List of (nodes,shortest_distance) tuples\n",
    "    \"\"\"\n",
    "    explored = set()\n",
    "    q = deque()\n",
    "    res = []\n",
    "    explored.add(s)\n",
    "    q.appendleft((s,0)) #set source distance to 0\n",
    "    while q: #repeat until queue is not empty\n",
    "        u,dist = q.pop()\n",
    "        res.append((u,dist))\n",
    "        for v in G[u]: #iterate through all the edges\n",
    "            if v not in explored:\n",
    "                q.appendleft((v,dist+1))\n",
    "                explored.add(v)\n",
    "    return res"
   ]
  },
  {
   "cell_type": "code",
   "execution_count": 96,
   "metadata": {},
   "outputs": [
    {
     "data": {
      "text/plain": [
       "[('s', 0), ('a', 1), ('b', 1), ('c', 2), ('d', 2), ('e', 3)]"
      ]
     },
     "execution_count": 96,
     "metadata": {},
     "output_type": "execute_result"
    }
   ],
   "source": [
    "G = {\n",
    "    's' : ['a','b'],\n",
    "    'a' : ['b','c'],\n",
    "    'b' : ['s','d'],\n",
    "    'c' : ['a','e','d'],\n",
    "    'd' : ['c','b','e'],\n",
    "    'e' : ['c','d']\n",
    "}\n",
    "shortest_path(G,'s')"
   ]
  },
  {
   "cell_type": "markdown",
   "metadata": {},
   "source": [
    "### Connected components"
   ]
  },
  {
   "cell_type": "code",
   "execution_count": 79,
   "metadata": {},
   "outputs": [],
   "source": [
    "def connected_components(G):\n",
    "    \"\"\"Finds connected components in an undirected graph G\n",
    "\n",
    "    Args:\n",
    "      G: graph represented in adjacency list representation\n",
    "    Raises:\n",
    "        None\n",
    "    Returns:\n",
    "        List of List of connected Components\n",
    "    \"\"\"\n",
    "    explored = set()\n",
    "    res = []\n",
    "    \n",
    "    for v in G:\n",
    "        if v not in explored:\n",
    "            nodes = bfs(G,v)\n",
    "            explored.update(nodes)\n",
    "            res.append(nodes)\n",
    "    return res"
   ]
  },
  {
   "cell_type": "code",
   "execution_count": 80,
   "metadata": {},
   "outputs": [
    {
     "data": {
      "text/plain": [
       "[[1, 3, 5, 7, 9], [2, 4], [6, 8, 10]]"
      ]
     },
     "execution_count": 80,
     "metadata": {},
     "output_type": "execute_result"
    }
   ],
   "source": [
    "G = {\n",
    "    1: [3,5],\n",
    "    2: [4],\n",
    "    3: [1,5],\n",
    "    4: [2],\n",
    "    5: [1,3,7,9],\n",
    "    6: [8,10],\n",
    "    7: [5],\n",
    "    8: [6,10],\n",
    "    9: [5],\n",
    "    10:[6,8]\n",
    "}\n",
    "\n",
    "connected_components(G)"
   ]
  },
  {
   "cell_type": "markdown",
   "metadata": {},
   "source": [
    "### Search - DFS"
   ]
  },
  {
   "cell_type": "code",
   "execution_count": 93,
   "metadata": {},
   "outputs": [],
   "source": [
    "def dfs_util(G,n,explored,res):\n",
    "    explored.add(n)\n",
    "    res.append(n)\n",
    "    for v in G[n]:\n",
    "        if v not in explored:\n",
    "            dfs_util(G,v,explored,res)\n",
    "\n",
    "def dfs(G,s):\n",
    "    \"\"\"Does DFS search on the given graph\n",
    "\n",
    "    Args:\n",
    "      G: graph represented in adjacency list representation\n",
    "      s: source node\n",
    "    Raises:\n",
    "        None\n",
    "    Returns:\n",
    "        List of nodes explored in dfs order\n",
    "    \"\"\"\n",
    "    explored = set()\n",
    "    res = []\n",
    "    dfs_util(G,s,explored,res)\n",
    "    return res"
   ]
  },
  {
   "cell_type": "code",
   "execution_count": 94,
   "metadata": {},
   "outputs": [
    {
     "data": {
      "text/plain": [
       "['s', 'a', 'b', 'd', 'c', 'e']"
      ]
     },
     "execution_count": 94,
     "metadata": {},
     "output_type": "execute_result"
    }
   ],
   "source": [
    "G = {\n",
    "    's' : ['a','b'],\n",
    "    'a' : ['b','c'],\n",
    "    'b' : ['s','d'],\n",
    "    'c' : ['a','e','d'],\n",
    "    'd' : ['c','b','e'],\n",
    "    'e' : ['c','d']\n",
    "}\n",
    "dfs(G,'s')"
   ]
  },
  {
   "cell_type": "markdown",
   "metadata": {},
   "source": [
    "### Topological sort"
   ]
  },
  {
   "cell_type": "code",
   "execution_count": 116,
   "metadata": {},
   "outputs": [],
   "source": [
    "def topological_sort(G):\n",
    "    \"\"\"Does topological sort on the DAG \n",
    "\n",
    "    Args:\n",
    "      G: DAG represented in adjacency list\n",
    "    Raises:\n",
    "        None\n",
    "    Returns:\n",
    "        topologically sorted list\n",
    "    \"\"\"\n",
    "    explored = set()\n",
    "    res = []\n",
    "    for v in G:\n",
    "        if v not in explored:\n",
    "            tmp = []\n",
    "            dfs_util(G,v,explored,tmp)\n",
    "            explored.update(tmp)\n",
    "            res.extend(tmp)\n",
    "    return res"
   ]
  },
  {
   "cell_type": "code",
   "execution_count": 117,
   "metadata": {},
   "outputs": [
    {
     "data": {
      "text/plain": [
       "['s', 'v', 't', 'w', 'a', 'b', 'c']"
      ]
     },
     "execution_count": 117,
     "metadata": {},
     "output_type": "execute_result"
    }
   ],
   "source": [
    "G = {\n",
    "    's' : ['v','w'],\n",
    "    'v' : ['t'],\n",
    "    'w' : ['t'],\n",
    "    't' : [],\n",
    "    'a' : ['b','c'],\n",
    "    'b' : ['s'],\n",
    "    'c' : []\n",
    "}\n",
    "topological_sort(G)"
   ]
  },
  {
   "cell_type": "markdown",
   "metadata": {},
   "source": [
    "### Strongly connected components"
   ]
  },
  {
   "cell_type": "code",
   "execution_count": 296,
   "metadata": {},
   "outputs": [],
   "source": [
    "import logging\n",
    "# module to reverse graph\n",
    "def reverse_graph(d):\n",
    "    reversed_dict = {}\n",
    "    for key in d:\n",
    "        reversed_dict[key] = list()\n",
    "    \n",
    "    for key, values in d.items():\n",
    "        for value in values:\n",
    "            reversed_dict[value].append(key)\n",
    "    return reversed_dict"
   ]
  },
  {
   "cell_type": "code",
   "execution_count": 178,
   "metadata": {},
   "outputs": [],
   "source": [
    "# helper function for scc\n",
    "def dfs_loop(G,n,explored,res,order,ft):\n",
    "    explored.add(n)\n",
    "    res.append(n)\n",
    "    for v in G[n]:\n",
    "        if v not in explored:\n",
    "            dfs_loop(G,v,explored,res,order,ft)        \n",
    "    order[ft[0]] = n\n",
    "    ft[0] = ft[0]+1"
   ]
  },
  {
   "cell_type": "code",
   "execution_count": 298,
   "metadata": {},
   "outputs": [],
   "source": [
    "def scc(G,reverse=None):\n",
    "    \"\"\"Computes strongly connected components of given grapg G  \n",
    "\n",
    "    Args:\n",
    "      G: Graph represented in adjacency list\n",
    "      reverse: reverse function og graph G\n",
    "    Raises:\n",
    "        None\n",
    "    Returns:\n",
    "        list of list of SCC\n",
    "    \"\"\"\n",
    "    order = [None]*len(G)\n",
    "    ft = [0]\n",
    "    explored = set()\n",
    "    _G = reverse(G) if reverse else reverse_graph(G)\n",
    "    logging.debug(\"dfs on reversed graph\")\n",
    "    #run DFS on reversed graph\n",
    "    for v in _G:\n",
    "        if v not in explored:\n",
    "            dfs_loop(_G,v,explored,[],order,ft)\n",
    "    #run DFS on original graph in order of finish time\n",
    "    logging.debug(\"dfs on original graph\")\n",
    "    explored = set()\n",
    "    ft = [0]\n",
    "    res = []\n",
    "    for v in reversed(order):\n",
    "        if v not in explored:\n",
    "            lst = []\n",
    "            dfs_loop(G,v,explored,lst,[None]*len(G),ft)\n",
    "            res.append(lst)\n",
    "    return res"
   ]
  },
  {
   "cell_type": "code",
   "execution_count": 299,
   "metadata": {},
   "outputs": [
    {
     "data": {
      "text/plain": [
       "[[4], [3], [0, 2, 1]]"
      ]
     },
     "execution_count": 299,
     "metadata": {},
     "output_type": "execute_result"
    }
   ],
   "source": [
    "G = {\n",
    "    0: [2,3],\n",
    "    1: [0],\n",
    "    2: [1],\n",
    "    3: [4],\n",
    "    4: []\n",
    "}\n",
    "\n",
    "scc(G)"
   ]
  },
  {
   "cell_type": "markdown",
   "metadata": {},
   "source": [
    "### assignment"
   ]
  },
  {
   "cell_type": "code",
   "execution_count": 300,
   "metadata": {},
   "outputs": [],
   "source": [
    "import urllib\n"
   ]
  },
  {
   "cell_type": "code",
   "execution_count": 319,
   "metadata": {},
   "outputs": [],
   "source": [
    "#url = 'https://raw.githubusercontent.com/beaunus/stanford-algs/master/testCases/course2/assignment1SCC/input_mostlyCycles_10_32.txt'\n",
    "url = 'https://raw.githubusercontent.com/beaunus/stanford-algs/master/testCases/course2/assignment1SCC/input_mostlyCycles_17_128.txt'\n",
    "from urllib.request import urlopen\n",
    "dat = urlopen(url).readlines()\n"
   ]
  },
  {
   "cell_type": "code",
   "execution_count": 320,
   "metadata": {},
   "outputs": [
    {
     "name": "stdout",
     "output_type": "stream",
     "text": [
      "136\n"
     ]
    }
   ],
   "source": [
    "print(len(dat))"
   ]
  },
  {
   "cell_type": "code",
   "execution_count": 322,
   "metadata": {},
   "outputs": [],
   "source": [
    "# initialize Graph and reverse graph\n",
    "G = {}\n",
    "_G = {}\n",
    "for i in range(1,128+1):\n",
    "    G[str(i)] = []\n",
    "    _G[str(i)] = []"
   ]
  },
  {
   "cell_type": "code",
   "execution_count": 323,
   "metadata": {},
   "outputs": [],
   "source": [
    "#populate graph and reverse graph\n",
    "def clean(l):\n",
    "    return str(l,'utf-8').strip().split()\n",
    "    \n",
    "for l in dat:\n",
    "    (v,w) = clean(l)\n",
    "    G[v].append(w)\n",
    "    _G[w].append(v)\n",
    "    "
   ]
  },
  {
   "cell_type": "code",
   "execution_count": 324,
   "metadata": {},
   "outputs": [],
   "source": [
    "def my_reversgraph(G):\n",
    "    global _G\n",
    "    return _G"
   ]
  },
  {
   "cell_type": "code",
   "execution_count": 325,
   "metadata": {},
   "outputs": [],
   "source": [
    "\n",
    "res = scc(G)"
   ]
  },
  {
   "cell_type": "code",
   "execution_count": 326,
   "metadata": {},
   "outputs": [
    {
     "data": {
      "text/plain": [
       "[119, 9]"
      ]
     },
     "execution_count": 326,
     "metadata": {},
     "output_type": "execute_result"
    }
   ],
   "source": [
    "#get top 5\n",
    "import heapq\n",
    "heapq.nlargest(5,[len(r) for r in res])\n"
   ]
  }
 ],
 "metadata": {
  "kernelspec": {
   "display_name": "Python 3",
   "language": "python",
   "name": "python3"
  },
  "language_info": {
   "codemirror_mode": {
    "name": "ipython",
    "version": 3
   },
   "file_extension": ".py",
   "mimetype": "text/x-python",
   "name": "python",
   "nbconvert_exporter": "python",
   "pygments_lexer": "ipython3",
   "version": "3.6.5"
  }
 },
 "nbformat": 4,
 "nbformat_minor": 2
}
