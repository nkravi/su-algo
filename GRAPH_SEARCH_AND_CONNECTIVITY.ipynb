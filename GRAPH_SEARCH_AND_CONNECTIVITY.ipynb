{
 "cells": [
  {
   "cell_type": "markdown",
   "metadata": {},
   "source": [
    "## GRAPH SEARCH AND CONNECTIVITY "
   ]
  },
  {
   "cell_type": "markdown",
   "metadata": {},
   "source": [
    "### Graph representation"
   ]
  },
  {
   "cell_type": "code",
   "execution_count": 31,
   "metadata": {},
   "outputs": [],
   "source": [
    "# adjacency list representation\n",
    "G = {\n",
    "    'a' : ['b','c'],\n",
    "    'b' : ['a','c'],\n",
    "    'c' : ['a','d'],\n",
    "    'd' : []\n",
    "}"
   ]
  },
  {
   "cell_type": "markdown",
   "metadata": {},
   "source": [
    "### Search - BFS"
   ]
  },
  {
   "cell_type": "code",
   "execution_count": 32,
   "metadata": {},
   "outputs": [],
   "source": [
    "from collections import deque"
   ]
  },
  {
   "cell_type": "code",
   "execution_count": 52,
   "metadata": {},
   "outputs": [],
   "source": [
    "def bfs(G, s):\n",
    "    \"\"\"Does BFS search on the given graph\n",
    "\n",
    "    Args:\n",
    "      G: graph represented in adjacency list representation\n",
    "      s: source node\n",
    "    Raises:\n",
    "        None\n",
    "    Returns:\n",
    "        List of nodes explored in order\n",
    "    \"\"\"\n",
    "    explored = set()\n",
    "    q = deque()\n",
    "    res = []\n",
    "    explored.add(s)\n",
    "    q.appendleft(s)\n",
    "    while q: #repeat until queue is not empty\n",
    "        u = q.pop()\n",
    "        res.append(u)\n",
    "        for v in G[u]: #iterate through all the edges\n",
    "            if v not in explored:\n",
    "                q.appendleft(v)\n",
    "                explored.add(v)\n",
    "    return res"
   ]
  },
  {
   "cell_type": "code",
   "execution_count": 53,
   "metadata": {},
   "outputs": [
    {
     "data": {
      "text/plain": [
       "['a', 'b', 'c', 'd']"
      ]
     },
     "execution_count": 53,
     "metadata": {},
     "output_type": "execute_result"
    }
   ],
   "source": [
    "bfs(G,\"a\")"
   ]
  },
  {
   "cell_type": "markdown",
   "metadata": {},
   "source": [
    "### BFS shortest path unweighted graph"
   ]
  },
  {
   "cell_type": "code",
   "execution_count": 54,
   "metadata": {},
   "outputs": [],
   "source": [
    "def shortest_path(G,s):\n",
    "    \"\"\"Does BFS search on the given graph to find the shortest distance\n",
    "    from given source\n",
    "\n",
    "    Args:\n",
    "      G: graph represented in adjacency list representation\n",
    "      s: source node\n",
    "    Raises:\n",
    "        None\n",
    "    Returns:\n",
    "        List of (nodes,shortest_distance) tuples\n",
    "    \"\"\"\n",
    "    explored = set()\n",
    "    q = deque()\n",
    "    res = []\n",
    "    explored.add(s)\n",
    "    q.appendleft((s,0)) #set source distance to 0\n",
    "    while q: #repeat until queue is not empty\n",
    "        u,dist = q.pop()\n",
    "        res.append((u,dist))\n",
    "        for v in G[u]: #iterate through all the edges\n",
    "            if v not in explored:\n",
    "                q.appendleft((v,dist+1))\n",
    "                explored.add(v)\n",
    "    return res"
   ]
  },
  {
   "cell_type": "code",
   "execution_count": 55,
   "metadata": {},
   "outputs": [
    {
     "data": {
      "text/plain": [
       "[('a', 0), ('b', 1), ('c', 1), ('d', 2)]"
      ]
     },
     "execution_count": 55,
     "metadata": {},
     "output_type": "execute_result"
    }
   ],
   "source": [
    "shortest_path(G,\"a\")"
   ]
  },
  {
   "cell_type": "code",
   "execution_count": 79,
   "metadata": {},
   "outputs": [],
   "source": [
    "def connected_components(G):\n",
    "    \"\"\"Finds connected components in an undirected graph G\n",
    "\n",
    "    Args:\n",
    "      G: graph represented in adjacency list representation\n",
    "    Raises:\n",
    "        None\n",
    "    Returns:\n",
    "        List of List of connected Components\n",
    "    \"\"\"\n",
    "    explored = set()\n",
    "    res = []\n",
    "    \n",
    "    for v in G:\n",
    "        if v not in explored:\n",
    "            nodes = bfs(G,v)\n",
    "            explored.update(nodes)\n",
    "            res.append(nodes)\n",
    "    return res"
   ]
  },
  {
   "cell_type": "code",
   "execution_count": 80,
   "metadata": {},
   "outputs": [
    {
     "data": {
      "text/plain": [
       "[[1, 3, 5, 7, 9], [2, 4], [6, 8, 10]]"
      ]
     },
     "execution_count": 80,
     "metadata": {},
     "output_type": "execute_result"
    }
   ],
   "source": [
    "G = {\n",
    "    1: [3,5],\n",
    "    2: [4],\n",
    "    3: [1,5],\n",
    "    4: [2],\n",
    "    5: [1,3,7,9],\n",
    "    6: [8,10],\n",
    "    7: [5],\n",
    "    8: [6,10],\n",
    "    9: [5],\n",
    "    10:[6,8]\n",
    "}\n",
    "\n",
    "connected_components(G)"
   ]
  }
 ],
 "metadata": {
  "kernelspec": {
   "display_name": "Python 3",
   "language": "python",
   "name": "python3"
  },
  "language_info": {
   "codemirror_mode": {
    "name": "ipython",
    "version": 3
   },
   "file_extension": ".py",
   "mimetype": "text/x-python",
   "name": "python",
   "nbconvert_exporter": "python",
   "pygments_lexer": "ipython3",
   "version": "3.6.5"
  }
 },
 "nbformat": 4,
 "nbformat_minor": 2
}
